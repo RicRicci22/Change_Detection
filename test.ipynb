{
 "cells": [
  {
   "cell_type": "code",
   "execution_count": 2,
   "metadata": {},
   "outputs": [
    {
     "name": "stdout",
     "output_type": "stream",
     "text": [
      "OPTForCausalLM(\n",
      "  (model): OPTModel(\n",
      "    (decoder): OPTDecoder(\n",
      "      (embed_tokens): Embedding(50272, 5120, padding_idx=1)\n",
      "      (embed_positions): OPTLearnedPositionalEmbedding(2050, 5120)\n",
      "      (final_layer_norm): LayerNorm((5120,), eps=1e-05, elementwise_affine=True)\n",
      "      (layers): ModuleList(\n",
      "        (0-39): 40 x OPTDecoderLayer(\n",
      "          (self_attn): OPTAttention(\n",
      "            (k_proj): Linear(in_features=5120, out_features=5120, bias=True)\n",
      "            (v_proj): Linear(in_features=5120, out_features=5120, bias=True)\n",
      "            (q_proj): Linear(in_features=5120, out_features=5120, bias=True)\n",
      "            (out_proj): Linear(in_features=5120, out_features=5120, bias=True)\n",
      "          )\n",
      "          (activation_fn): ReLU()\n",
      "          (self_attn_layer_norm): LayerNorm((5120,), eps=1e-05, elementwise_affine=True)\n",
      "          (fc1): Linear(in_features=5120, out_features=20480, bias=True)\n",
      "          (fc2): Linear(in_features=20480, out_features=5120, bias=True)\n",
      "          (final_layer_norm): LayerNorm((5120,), eps=1e-05, elementwise_affine=True)\n",
      "        )\n",
      "      )\n",
      "    )\n",
      "  )\n",
      "  (lm_head): Linear(in_features=5120, out_features=50272, bias=False)\n",
      ")\n"
     ]
    }
   ],
   "source": [
    "from accelerate import infer_auto_device_map, init_empty_weights\n",
    "from transformers import AutoConfig, AutoModelForCausalLM\n",
    "\n",
    "config = AutoConfig.from_pretrained(\"facebook/opt-13b\")\n",
    "with init_empty_weights():\n",
    "    model = AutoModelForCausalLM.from_config(config)\n",
    "\n",
    "print(model)\n",
    "\n",
    "# device_map = infer_auto_device_map(model)\n",
    "# print(device_map)"
   ]
  },
  {
   "cell_type": "code",
   "execution_count": 12,
   "metadata": {},
   "outputs": [
    {
     "name": "stdout",
     "output_type": "stream",
     "text": [
      "968\n",
      "1600\n",
      "400\n"
     ]
    }
   ],
   "source": [
    "import json\n",
    "\n",
    "with open('CDVQA_dataset/Test_CD_VQA_summary_Final.json', 'r') as f:\n",
    "    testfinal = json.load(f)\n",
    "with open('CDVQA_dataset/Test2_CD_VQA_summary_Final.json', 'r') as f:\n",
    "    testfinal2 = json.load(f)\n",
    "with open('CDVQA_dataset/Train_CD_VQA_summary_Final.json', 'r') as f:\n",
    "    trainfinal = json.load(f)\n",
    "with open('CDVQA_dataset/Val_CD_VQA_summary_Final.json', 'r') as f:\n",
    "    valfinal = json.load(f)\n",
    "    \n",
    "print(testfinal[\"CDVQA\"][0])\n",
    "print(testfinal2[\"CDVQA\"][0])\n",
    "print(len(trainfinal[\"CDVQA\"]))\n",
    "print(len(valfinal[\"CDVQA\"]))"
   ]
  }
 ],
 "metadata": {
  "kernelspec": {
   "display_name": "satclip",
   "language": "python",
   "name": "python3"
  },
  "language_info": {
   "codemirror_mode": {
    "name": "ipython",
    "version": 3
   },
   "file_extension": ".py",
   "mimetype": "text/x-python",
   "name": "python",
   "nbconvert_exporter": "python",
   "pygments_lexer": "ipython3",
   "version": "3.9.0"
  },
  "orig_nbformat": 4
 },
 "nbformat": 4,
 "nbformat_minor": 2
}
